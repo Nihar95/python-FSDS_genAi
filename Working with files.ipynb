{
 "cells": [
  {
   "cell_type": "markdown",
   "id": "b1a3a35f",
   "metadata": {},
   "source": [
    "## Files in Python\n",
    "\n",
    "1. Read Mode ---> \"r\"\n",
    "2. Append Mode ===> \"a\"\n",
    "3. write mode ---> \"w\"\n",
    "4. create mode ---> \"x\n",
    "5. read only txt ---> \"t\""
   ]
  },
  {
   "cell_type": "code",
   "execution_count": 5,
   "id": "fe4059ac",
   "metadata": {},
   "outputs": [
    {
     "name": "stdout",
     "output_type": "stream",
     "text": [
      "<_io.TextIOWrapper name='test1.txt' mode='r' encoding='UTF-8'>\n"
     ]
    }
   ],
   "source": [
    "f= open(\"test1.txt\",\"r\")\n",
    "print(f)"
   ]
  },
  {
   "cell_type": "code",
   "execution_count": 6,
   "id": "6d752359",
   "metadata": {},
   "outputs": [
    {
     "name": "stdout",
     "output_type": "stream",
     "text": [
      "Hello I am Nihar\n",
      "Welcome to Data science\n"
     ]
    }
   ],
   "source": [
    "print(f.read())"
   ]
  },
  {
   "cell_type": "code",
   "execution_count": 7,
   "id": "de2fad47",
   "metadata": {},
   "outputs": [
    {
     "name": "stdout",
     "output_type": "stream",
     "text": [
      "Hello Nihar\n"
     ]
    }
   ],
   "source": [
    "f= open(\"data/test2.txt\",\"r\")\n",
    "print(f.read())"
   ]
  },
  {
   "cell_type": "code",
   "execution_count": 9,
   "id": "03ae9245",
   "metadata": {},
   "outputs": [
    {
     "name": "stdout",
     "output_type": "stream",
     "text": [
      "Hello I am Nihar\n",
      "\n",
      "Welcome to Data science\n"
     ]
    }
   ],
   "source": [
    "f= open(\"test1.txt\",\"r\")\n",
    "print(f.readline())\n",
    "print(f.readline())"
   ]
  },
  {
   "cell_type": "code",
   "execution_count": 11,
   "id": "5d53c9b3",
   "metadata": {},
   "outputs": [
    {
     "name": "stdout",
     "output_type": "stream",
     "text": [
      "Hello Nihar\n"
     ]
    }
   ],
   "source": [
    "## close file: It is a good practice\n",
    "\n",
    "f= open(\"data/test2.txt\",\"r\")\n",
    "print(f.read())\n",
    "f.close()"
   ]
  },
  {
   "cell_type": "code",
   "execution_count": 12,
   "id": "be1c3231",
   "metadata": {},
   "outputs": [
    {
     "name": "stdout",
     "output_type": "stream",
     "text": [
      "Hello I am Nihar\n",
      "\n",
      "Welcome to Data science\n"
     ]
    }
   ],
   "source": [
    "f= open(\"test1.txt\",\"r\")\n",
    "for i in f:\n",
    "    print(i)"
   ]
  },
  {
   "cell_type": "code",
   "execution_count": 15,
   "id": "1236a57f",
   "metadata": {},
   "outputs": [
    {
     "name": "stdout",
     "output_type": "stream",
     "text": [
      "(0, 'Hello I am Nihar\\n')\n",
      "(1, 'Welcome to Data science')\n"
     ]
    }
   ],
   "source": [
    "f= open(\"test1.txt\",\"r\")\n",
    "for i in enumerate(f):\n",
    "    print(i)"
   ]
  },
  {
   "cell_type": "code",
   "execution_count": 22,
   "id": "d23c89c6",
   "metadata": {},
   "outputs": [
    {
     "name": "stdout",
     "output_type": "stream",
     "text": [
      "Welcome to Data science\n"
     ]
    }
   ],
   "source": [
    "# readlines()\n",
    "\n",
    "f= open(\"test1.txt\",\"r\")\n",
    "print(f.readlines()[1])\n",
    "\n",
    "f.close()"
   ]
  },
  {
   "cell_type": "code",
   "execution_count": 23,
   "id": "a1ad4490",
   "metadata": {},
   "outputs": [
    {
     "name": "stdout",
     "output_type": "stream",
     "text": [
      "Hello I am Nihar\n",
      "Welcome to Data science\n"
     ]
    }
   ],
   "source": [
    "# we dont need to close the file manually if we are using below code\n",
    "\n",
    "with open(\"test1.txt\",\"r\") as f:\n",
    "    print(f.read())"
   ]
  },
  {
   "cell_type": "code",
   "execution_count": 32,
   "id": "bb4c1a44",
   "metadata": {},
   "outputs": [],
   "source": [
    "# append\n",
    "\n",
    "f= open(\"test1.txt\",\"a\")\n",
    "f.write(\"This is python Class\")\n",
    "f.close()"
   ]
  },
  {
   "cell_type": "code",
   "execution_count": 38,
   "id": "e7db6a93",
   "metadata": {},
   "outputs": [],
   "source": [
    "f= open(\"test2.txt\",\"w\")\n",
    "f.write(\"This is python Class\")\n",
    "f.close()"
   ]
  },
  {
   "cell_type": "code",
   "execution_count": 39,
   "id": "6828a0a5",
   "metadata": {},
   "outputs": [],
   "source": [
    "import os"
   ]
  },
  {
   "cell_type": "code",
   "execution_count": 40,
   "id": "e6c42581",
   "metadata": {},
   "outputs": [],
   "source": [
    "os.remove(\"test2.txt\")"
   ]
  },
  {
   "cell_type": "code",
   "execution_count": 37,
   "id": "79c32be0",
   "metadata": {},
   "outputs": [],
   "source": [
    "with open(\"test4.txt\",\"x\") as f:\n",
    "    pass"
   ]
  },
  {
   "cell_type": "code",
   "execution_count": null,
   "id": "f0697819",
   "metadata": {},
   "outputs": [],
   "source": []
  }
 ],
 "metadata": {
  "kernelspec": {
   "display_name": "Python 3 (ipykernel)",
   "language": "python",
   "name": "python3"
  },
  "language_info": {
   "codemirror_mode": {
    "name": "ipython",
    "version": 3
   },
   "file_extension": ".py",
   "mimetype": "text/x-python",
   "name": "python",
   "nbconvert_exporter": "python",
   "pygments_lexer": "ipython3",
   "version": "3.11.7"
  }
 },
 "nbformat": 4,
 "nbformat_minor": 5
}
